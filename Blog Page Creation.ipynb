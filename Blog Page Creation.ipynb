{
 "cells": [
  {
   "cell_type": "code",
   "execution_count": 1,
   "id": "ef24cd9f-8cc6-4d7d-8836-cacdfcf8ffce",
   "metadata": {},
   "outputs": [
    {
     "name": "stdout",
     "output_type": "stream",
     "text": [
      "Post added successfully.\n",
      "Post added successfully.\n",
      "\n",
      "Viewing all posts:\n",
      "Title: UFC FIGHT 1\n",
      "Content: Match between ******Conor MCGregor  Vs Jose Aldo******.\n",
      "Title: UFC FIGHT 2\n",
      "Content: Match between ******Khabib Vs Nate Diaz******.\n",
      "\n",
      "Deleting UFC FIGHT 1:\n",
      "Post deleted successfully.\n",
      "\n",
      "Viewing the match that is confirmed after deletion:\n",
      "Title: UFC FIGHT 2\n",
      "Content: Match between ******Khabib Vs Nate Diaz******.\n",
      "Winner:\n",
      " UFC FIGHT (Light Weight Division) *******Khabib*******\n"
     ]
    }
   ],
   "source": [
    "class Blog:\n",
    "    def __init__(self):\n",
    "        self.posts = {}\n",
    "\n",
    "    def add_post(self, title, content):\n",
    "        self.posts[title] = content\n",
    "        print(\"Post added successfully.\")\n",
    "\n",
    "    def delete_post(self, title):\n",
    "        try:\n",
    "            del self.posts[title]\n",
    "            print(\"Post deleted successfully.\")\n",
    "        except KeyError:\n",
    "            print(\"Post not found.\")\n",
    "\n",
    "    def view_post(self, title):\n",
    "        try:\n",
    "            print(\"Title:\", title)\n",
    "            print(\"Content:\", self.posts[title])\n",
    "        except KeyError:\n",
    "            print(\"Post not found.\")\n",
    "\n",
    "# Create a blog instance\n",
    "blog = Blog()\n",
    "\n",
    "# Add blog posts for UFC FIGHT 1 and UFC FIGHT 2\n",
    "blog.add_post(\"UFC FIGHT 1\", \"Match between ******Conor MCGregor  Vs Jose Aldo******.\")\n",
    "blog.add_post(\"UFC FIGHT 2\", \"Match between ******Khabib Vs Nate Diaz******.\")\n",
    "\n",
    "# View the blog posts\n",
    "print(\"\\nViewing all posts:\")\n",
    "for title in blog.posts:\n",
    "    blog.view_post(title)\n",
    "\n",
    "# Delete a blog post\n",
    "print(\"\\nDeleting UFC FIGHT 1:\")\n",
    "blog.delete_post(\"UFC FIGHT 1\")\n",
    "\n",
    "# View the updated blog posts\n",
    "print(\"\\nViewing the match that is confirmed after deletion:\")\n",
    "for title in blog.posts:\n",
    "    blog.view_post(title)\n",
    "\n",
    "# Compare X and Y to declare the winner\n",
    "x = 110 \n",
    "y = 107 \n",
    "if x > y:\n",
    "    winner = \"UFC FIGHT (Light Weight Division) *******Khabib*******\"\n",
    "elif x < y:\n",
    "    winner = \"UFC FIGHT (Light Weight Division) ******Nate Diaz******\"\n",
    "else:\n",
    "    winner = \"It's a tie\"\n",
    "\n",
    "print(\"Winner:\\n\", winner)\n"
   ]
  },
  {
   "cell_type": "code",
   "execution_count": null,
   "id": "84c5d3c9-822e-4bf1-a4c7-d07744d1851f",
   "metadata": {},
   "outputs": [],
   "source": []
  }
 ],
 "metadata": {
  "kernelspec": {
   "display_name": "Python 3 (ipykernel)",
   "language": "python",
   "name": "python3"
  },
  "language_info": {
   "codemirror_mode": {
    "name": "ipython",
    "version": 3
   },
   "file_extension": ".py",
   "mimetype": "text/x-python",
   "name": "python",
   "nbconvert_exporter": "python",
   "pygments_lexer": "ipython3",
   "version": "3.11.7"
  }
 },
 "nbformat": 4,
 "nbformat_minor": 5
}
